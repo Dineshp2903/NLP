{
 "cells": [
  {
   "cell_type": "code",
   "execution_count": 1,
   "metadata": {},
   "outputs": [],
   "source": [
    "import tensorflow as tf\n",
    "from tensorflow import keras\n",
    "from tensorflow.keras.preprocessing.text import Tokenizer"
   ]
  },
  {
   "cell_type": "code",
   "execution_count": 2,
   "metadata": {},
   "outputs": [],
   "source": [
    "sentences = [\n",
    "    'I love my Dog',\n",
    "    'I love my Cat'\n",
    "]"
   ]
  },
  {
   "cell_type": "markdown",
   "metadata": {},
   "source": [
    "### Tokenizer"
   ]
  },
  {
   "cell_type": "code",
   "execution_count": 3,
   "metadata": {},
   "outputs": [
    {
     "name": "stdout",
     "output_type": "stream",
     "text": [
      "{'i': 1, 'love': 2, 'my': 3, 'dog': 4, 'cat': 5}\n"
     ]
    }
   ],
   "source": [
    "tokenizer = Tokenizer(num_words = 100)\n",
    "tokenizer.fit_on_texts(sentences)\n",
    "word_index = tokenizer.word_index\n",
    "print(word_index)"
   ]
  },
  {
   "cell_type": "code",
   "execution_count": 17,
   "metadata": {},
   "outputs": [
    {
     "name": "stdout",
     "output_type": "stream",
     "text": [
      "{'my': 1, 'love': 2, 'you': 3, 'i': 4, 'dog': 5, 'cat': 6, 'hey': 7, 'how': 8, 'are': 9, 'do': 10, 'think': 11, 'tag': 12, 'is': 13, 'amazing': 14}\n"
     ]
    }
   ],
   "source": [
    "sentences1 = [\n",
    "    'I love my Dog',\n",
    "    'I, love my Cat',\n",
    "    'You Love MY DOG!',\n",
    "    'Hey How Are You',\n",
    "    'Do You think my tag is amazing'\n",
    "]\n",
    "tokenizer1 = Tokenizer(num_words = 100)\n",
    "tokenizer1.fit_on_texts(sentences1)\n",
    "word_index = tokenizer1.word_index\n",
    "print(word_index)"
   ]
  },
  {
   "cell_type": "code",
   "execution_count": 18,
   "metadata": {},
   "outputs": [
    {
     "data": {
      "text/plain": [
       "[[4, 2, 1, 5],\n",
       " [4, 2, 1, 6],\n",
       " [3, 2, 1, 5],\n",
       " [7, 8, 9, 3],\n",
       " [10, 3, 11, 1, 12, 13, 14]]"
      ]
     },
     "execution_count": 18,
     "metadata": {},
     "output_type": "execute_result"
    }
   ],
   "source": [
    "tokenizer1.texts_to_sequences(sentences1)"
   ]
  },
  {
   "cell_type": "code",
   "execution_count": 19,
   "metadata": {},
   "outputs": [],
   "source": [
    "test_data = [\n",
    "    'I really love my dog',\n",
    "    'Do you think i am fine'\n",
    "]"
   ]
  },
  {
   "cell_type": "code",
   "execution_count": 20,
   "metadata": {},
   "outputs": [
    {
     "data": {
      "text/plain": [
       "[[4, 2, 1, 5], [10, 3, 11, 4]]"
      ]
     },
     "execution_count": 20,
     "metadata": {},
     "output_type": "execute_result"
    }
   ],
   "source": [
    "tokenizer1.texts_to_sequences(test_data)"
   ]
  },
  {
   "cell_type": "code",
   "execution_count": 26,
   "metadata": {},
   "outputs": [
    {
     "name": "stdout",
     "output_type": "stream",
     "text": [
      "{'my': 1, 'love': 2, 'you': 3, 'i': 4, 'dog': 5, 'cat': 6, 'hey': 7, 'how': 8, 'are': 9, 'do': 10, 'think': 11, 'tag': 12, 'is': 13, 'amazing': 14}\n",
      "[[5, 1, 3, 2, 6], [11, 4, 12, 5, 1, 1]]\n"
     ]
    }
   ],
   "source": [
    "sentences2 = [\n",
    "    'I love my Dog',\n",
    "    'I, love my Cat',\n",
    "    'You Love MY DOG!',\n",
    "    'Hey How Are You',\n",
    "    'Do You think my tag is amazing'\n",
    "]\n",
    "tokenizer2 = Tokenizer(num_words = 100,oov_token=\"<oov>\")\n",
    "tokenizer2.fit_on_texts(sentences2)\n",
    "word_index = tokenizer1.word_index\n",
    "print(word_index)\n",
    "\n",
    "test_data1 = [\n",
    "    'I really love my dog',\n",
    "    'Do you think i am fine'\n",
    "]\n",
    "seq = tokenizer2.texts_to_sequences(test_data1)\n",
    "print(seq)"
   ]
  },
  {
   "cell_type": "markdown",
   "metadata": {},
   "source": [
    "### Padding"
   ]
  },
  {
   "cell_type": "code",
   "execution_count": 27,
   "metadata": {},
   "outputs": [],
   "source": [
    "from tensorflow.keras.preprocessing.sequence import pad_sequences"
   ]
  },
  {
   "cell_type": "code",
   "execution_count": 29,
   "metadata": {},
   "outputs": [
    {
     "name": "stdout",
     "output_type": "stream",
     "text": [
      "[[ 0  5  1  3  2  6]\n",
      " [11  4 12  5  1  1]]\n"
     ]
    }
   ],
   "source": [
    "print(pad_sequences(seq))"
   ]
  },
  {
   "cell_type": "code",
   "execution_count": 30,
   "metadata": {},
   "outputs": [
    {
     "name": "stdout",
     "output_type": "stream",
     "text": [
      "[[ 5  1  3  2  6  0]\n",
      " [11  4 12  5  1  1]]\n"
     ]
    }
   ],
   "source": [
    "## Post Padding\n",
    "print(pad_sequences(seq,padding=\"post\"))"
   ]
  },
  {
   "cell_type": "code",
   "execution_count": 33,
   "metadata": {},
   "outputs": [
    {
     "name": "stdout",
     "output_type": "stream",
     "text": [
      "[[ 5  1  3  2  6  0  0  0]\n",
      " [11  4 12  5  1  1  0  0]]\n"
     ]
    }
   ],
   "source": [
    "## MaxLen\n",
    "print(pad_sequences(seq,padding=\"post\",maxlen=8\n",
    "                   ))"
   ]
  },
  {
   "cell_type": "code",
   "execution_count": null,
   "metadata": {},
   "outputs": [],
   "source": []
  }
 ],
 "metadata": {
  "kernelspec": {
   "display_name": "Python 3",
   "language": "python",
   "name": "python3"
  },
  "language_info": {
   "codemirror_mode": {
    "name": "ipython",
    "version": 3
   },
   "file_extension": ".py",
   "mimetype": "text/x-python",
   "name": "python",
   "nbconvert_exporter": "python",
   "pygments_lexer": "ipython3",
   "version": "3.8.5"
  }
 },
 "nbformat": 4,
 "nbformat_minor": 4
}
