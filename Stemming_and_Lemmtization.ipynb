{
  "nbformat": 4,
  "nbformat_minor": 0,
  "metadata": {
    "colab": {
      "provenance": []
    },
    "kernelspec": {
      "name": "python3",
      "display_name": "Python 3"
    },
    "language_info": {
      "name": "python"
    }
  },
  "cells": [
    {
      "cell_type": "code",
      "execution_count": 5,
      "metadata": {
        "colab": {
          "base_uri": "https://localhost:8080/"
        },
        "id": "sCKVKOV1_HLs",
        "outputId": "e45849e5-97ab-44c0-aac1-3aeb1da6f88b"
      },
      "outputs": [
        {
          "output_type": "stream",
          "name": "stdout",
          "text": [
            "Requirement already satisfied: nltk in /usr/local/lib/python3.10/dist-packages (3.8.1)\n",
            "Requirement already satisfied: click in /usr/local/lib/python3.10/dist-packages (from nltk) (8.1.7)\n",
            "Requirement already satisfied: joblib in /usr/local/lib/python3.10/dist-packages (from nltk) (1.4.2)\n",
            "Requirement already satisfied: regex>=2021.8.3 in /usr/local/lib/python3.10/dist-packages (from nltk) (2023.12.25)\n",
            "Requirement already satisfied: tqdm in /usr/local/lib/python3.10/dist-packages (from nltk) (4.66.4)\n"
          ]
        }
      ],
      "source": [
        "!pip install nltk"
      ]
    },
    {
      "cell_type": "code",
      "source": [
        "paragraph=\"Mahendra Singh Dhoni (/məˈheɪndrə ˈsɪŋ dhæˈnɪ/ ⓘ; born 7 July 1981) is an Indian professional cricketer who plays as a right handed batter and a wicket-keeper. Widely regarded as one of the most prolific wicket-keeper-batsmen and captains, he represented the Indian cricket team and was the captain of the side in limited-overs formats from 2007 to 2017 and in test cricket from 2008 to 2014. Dhoni has captained the most international matches and is the most successful Indian captain. He has led India to victory in the 2011 Cricket World Cup, the 2007 ICC World Twenty20 and the 2013 ICC Champions Trophy, the only captain to win three different limited overs tournaments. He also led the teams that won the Asia Cup in 2010, 2016 and was a member of the title winning squad in 2018.Born in Ranchi, Dhoni made his first class debut for Bihar in 1999. He made his debut for the Indian cricket team on 23 December 2004 in an ODI against Bangladesh and played his first test a year later against Sri Lanka. In 2007, he became the captain of the ODI side before taking over in all formats by 2008. Dhoni retired from test cricket in 2014, but continued playing in limited overs cricket till 2019. He has scored 17,266 runs in international cricket including 10,000 plus runs at an average of more than 50 in ODIs.In the Indian Premier League (IPL), Dhoni plays for Chennai Super Kings (CSK), leading them to the final on ten occasions and winning it five times (2010, 2011, 2018, 2021 and 2023). He has also led CSK to two Champions League T20 titles in 2010 and 2014. Dhoni is amongst the few batsmen to have scored more than five thousand runs in the IPL, as well as being the first wicket-keeper to do so.\""
      ],
      "metadata": {
        "id": "p5Vtqwu1_NNr"
      },
      "execution_count": 6,
      "outputs": []
    },
    {
      "cell_type": "code",
      "source": [
        "paragraph"
      ],
      "metadata": {
        "colab": {
          "base_uri": "https://localhost:8080/",
          "height": 139
        },
        "id": "knoirnYo_u6f",
        "outputId": "694faa39-6edb-40e4-bf0b-15f8c186002d"
      },
      "execution_count": 7,
      "outputs": [
        {
          "output_type": "execute_result",
          "data": {
            "text/plain": [
              "'Mahendra Singh Dhoni (/məˈheɪndrə ˈsɪŋ dhæˈnɪ/ ⓘ; born 7 July 1981) is an Indian professional cricketer who plays as a right handed batter and a wicket-keeper. Widely regarded as one of the most prolific wicket-keeper-batsmen and captains, he represented the Indian cricket team and was the captain of the side in limited-overs formats from 2007 to 2017 and in test cricket from 2008 to 2014. Dhoni has captained the most international matches and is the most successful Indian captain. He has led India to victory in the 2011 Cricket World Cup, the 2007 ICC World Twenty20 and the 2013 ICC Champions Trophy, the only captain to win three different limited overs tournaments. He also led the teams that won the Asia Cup in 2010, 2016 and was a member of the title winning squad in 2018.Born in Ranchi, Dhoni made his first class debut for Bihar in 1999. He made his debut for the Indian cricket team on 23 December 2004 in an ODI against Bangladesh and played his first test a year later against Sri Lanka. In 2007, he became the captain of the ODI side before taking over in all formats by 2008. Dhoni retired from test cricket in 2014, but continued playing in limited overs cricket till 2019. He has scored 17,266 runs in international cricket including 10,000 plus runs at an average of more than 50 in ODIs.In the Indian Premier League (IPL), Dhoni plays for Chennai Super Kings (CSK), leading them to the final on ten occasions and winning it five times (2010, 2011, 2018, 2021 and 2023). He has also led CSK to two Champions League T20 titles in 2010 and 2014. Dhoni is amongst the few batsmen to have scored more than five thousand runs in the IPL, as well as being the first wicket-keeper to do so.'"
            ],
            "application/vnd.google.colaboratory.intrinsic+json": {
              "type": "string"
            }
          },
          "metadata": {},
          "execution_count": 7
        }
      ]
    },
    {
      "cell_type": "code",
      "source": [
        "import nltk\n",
        "from nltk.stem import PorterStemmer\n",
        "from nltk.corpus import stopwords"
      ],
      "metadata": {
        "id": "wNX4MQBh_wAV"
      },
      "execution_count": 8,
      "outputs": []
    },
    {
      "cell_type": "code",
      "source": [
        "## Tokenization  - Converts to paragraphs->sentences->words\n",
        "nltk.download('punkt')\n",
        "sentences = nltk.sent_tokenize(paragraph)"
      ],
      "metadata": {
        "colab": {
          "base_uri": "https://localhost:8080/"
        },
        "id": "Llwz9tpfAK_O",
        "outputId": "cd8317a4-2fe3-434e-bca0-8bbfaceae357"
      },
      "execution_count": 9,
      "outputs": [
        {
          "output_type": "stream",
          "name": "stderr",
          "text": [
            "[nltk_data] Downloading package punkt to /root/nltk_data...\n",
            "[nltk_data]   Unzipping tokenizers/punkt.zip.\n"
          ]
        }
      ]
    },
    {
      "cell_type": "code",
      "source": [
        "sentences"
      ],
      "metadata": {
        "colab": {
          "base_uri": "https://localhost:8080/"
        },
        "id": "5i7YCTQBAX2j",
        "outputId": "99c64657-5a1c-4263-e3bb-f23dda13b190"
      },
      "execution_count": 10,
      "outputs": [
        {
          "output_type": "execute_result",
          "data": {
            "text/plain": [
              "['Mahendra Singh Dhoni (/məˈheɪndrə ˈsɪŋ dhæˈnɪ/ ⓘ; born 7 July 1981) is an Indian professional cricketer who plays as a right handed batter and a wicket-keeper.',\n",
              " 'Widely regarded as one of the most prolific wicket-keeper-batsmen and captains, he represented the Indian cricket team and was the captain of the side in limited-overs formats from 2007 to 2017 and in test cricket from 2008 to 2014.',\n",
              " 'Dhoni has captained the most international matches and is the most successful Indian captain.',\n",
              " 'He has led India to victory in the 2011 Cricket World Cup, the 2007 ICC World Twenty20 and the 2013 ICC Champions Trophy, the only captain to win three different limited overs tournaments.',\n",
              " 'He also led the teams that won the Asia Cup in 2010, 2016 and was a member of the title winning squad in 2018.Born in Ranchi, Dhoni made his first class debut for Bihar in 1999.',\n",
              " 'He made his debut for the Indian cricket team on 23 December 2004 in an ODI against Bangladesh and played his first test a year later against Sri Lanka.',\n",
              " 'In 2007, he became the captain of the ODI side before taking over in all formats by 2008.',\n",
              " 'Dhoni retired from test cricket in 2014, but continued playing in limited overs cricket till 2019.',\n",
              " 'He has scored 17,266 runs in international cricket including 10,000 plus runs at an average of more than 50 in ODIs.In the Indian Premier League (IPL), Dhoni plays for Chennai Super Kings (CSK), leading them to the final on ten occasions and winning it five times (2010, 2011, 2018, 2021 and 2023).',\n",
              " 'He has also led CSK to two Champions League T20 titles in 2010 and 2014.',\n",
              " 'Dhoni is amongst the few batsmen to have scored more than five thousand runs in the IPL, as well as being the first wicket-keeper to do so.']"
            ]
          },
          "metadata": {},
          "execution_count": 10
        }
      ]
    },
    {
      "cell_type": "code",
      "source": [
        "stemmer = PorterStemmer()"
      ],
      "metadata": {
        "id": "jiCmPpSOAjWp"
      },
      "execution_count": 11,
      "outputs": []
    },
    {
      "cell_type": "code",
      "source": [
        "stemmer.stem('history')"
      ],
      "metadata": {
        "colab": {
          "base_uri": "https://localhost:8080/",
          "height": 35
        },
        "id": "dRkS448mIpXE",
        "outputId": "db9bc7f7-f83e-474c-e916-f0427e383462"
      },
      "execution_count": 12,
      "outputs": [
        {
          "output_type": "execute_result",
          "data": {
            "text/plain": [
              "'histori'"
            ],
            "application/vnd.google.colaboratory.intrinsic+json": {
              "type": "string"
            }
          },
          "metadata": {},
          "execution_count": 12
        }
      ]
    },
    {
      "cell_type": "code",
      "source": [
        "from nltk.stem import WordNetLemmatizer"
      ],
      "metadata": {
        "id": "Uv4k4qcyI5FO"
      },
      "execution_count": 13,
      "outputs": []
    },
    {
      "cell_type": "code",
      "source": [
        "lemmatizer=WordNetLemmatizer()"
      ],
      "metadata": {
        "id": "KKavMS6zJSgw"
      },
      "execution_count": 14,
      "outputs": []
    },
    {
      "cell_type": "code",
      "source": [
        "nltk.download('wordnet')\n"
      ],
      "metadata": {
        "colab": {
          "base_uri": "https://localhost:8080/"
        },
        "id": "2XhHZcpvJeHn",
        "outputId": "359259f9-1749-4e89-ff70-4cc516fbf8d8"
      },
      "execution_count": 15,
      "outputs": [
        {
          "output_type": "stream",
          "name": "stderr",
          "text": [
            "[nltk_data] Downloading package wordnet to /root/nltk_data...\n"
          ]
        },
        {
          "output_type": "execute_result",
          "data": {
            "text/plain": [
              "True"
            ]
          },
          "metadata": {},
          "execution_count": 15
        }
      ]
    },
    {
      "cell_type": "code",
      "source": [
        "lemmatizer.lemmatize('went')"
      ],
      "metadata": {
        "colab": {
          "base_uri": "https://localhost:8080/",
          "height": 35
        },
        "id": "Ef7dNcEEJmHq",
        "outputId": "b48897e5-25db-437c-e817-1957c6fe710b"
      },
      "execution_count": 16,
      "outputs": [
        {
          "output_type": "execute_result",
          "data": {
            "text/plain": [
              "'went'"
            ],
            "application/vnd.google.colaboratory.intrinsic+json": {
              "type": "string"
            }
          },
          "metadata": {},
          "execution_count": 16
        }
      ]
    },
    {
      "cell_type": "code",
      "source": [
        "import re"
      ],
      "metadata": {
        "id": "46kW9DKoJwGL"
      },
      "execution_count": 17,
      "outputs": []
    },
    {
      "cell_type": "code",
      "source": [
        "corpus=[]\n",
        "len_ = len(sentences)"
      ],
      "metadata": {
        "id": "21CBReSXK5Hn"
      },
      "execution_count": 18,
      "outputs": []
    },
    {
      "cell_type": "code",
      "source": [
        "for i in range(len_):\n",
        "  review = re.sub('[^a-zA-Z]',' ',sentences[i])\n",
        "  review = review.lower()\n",
        "  corpus.append(review)\n"
      ],
      "metadata": {
        "id": "Q6_Dfgs-K6_O"
      },
      "execution_count": 19,
      "outputs": []
    },
    {
      "cell_type": "code",
      "source": [
        "nltk.download('stopwords')"
      ],
      "metadata": {
        "colab": {
          "base_uri": "https://localhost:8080/"
        },
        "id": "SkEzPgEBMP-n",
        "outputId": "c3c34a22-fce4-48b6-a124-a95e3fb2e000"
      },
      "execution_count": 20,
      "outputs": [
        {
          "output_type": "stream",
          "name": "stderr",
          "text": [
            "[nltk_data] Downloading package stopwords to /root/nltk_data...\n",
            "[nltk_data]   Unzipping corpora/stopwords.zip.\n"
          ]
        },
        {
          "output_type": "execute_result",
          "data": {
            "text/plain": [
              "True"
            ]
          },
          "metadata": {},
          "execution_count": 20
        }
      ]
    },
    {
      "cell_type": "code",
      "source": [
        "## Stemming\n",
        "for i in corpus:\n",
        "  words = nltk.word_tokenize(i)\n",
        "  #print(words)\n",
        "  for word in words:\n",
        "\n",
        "    if word not in set(stopwords.words('english')):\n",
        "      print(stemmer.stem(word))"
      ],
      "metadata": {
        "colab": {
          "base_uri": "https://localhost:8080/"
        },
        "id": "UKqseMJ3MSAU",
        "outputId": "4680ae50-c2a8-417e-a7d0-a7681698f035"
      },
      "execution_count": 21,
      "outputs": [
        {
          "output_type": "stream",
          "name": "stdout",
          "text": [
            "mahendra\n",
            "singh\n",
            "dhoni\n",
            "ndr\n",
            "dh\n",
            "n\n",
            "born\n",
            "juli\n",
            "indian\n",
            "profession\n",
            "cricket\n",
            "play\n",
            "right\n",
            "hand\n",
            "batter\n",
            "wicket\n",
            "keeper\n",
            "wide\n",
            "regard\n",
            "one\n",
            "prolif\n",
            "wicket\n",
            "keeper\n",
            "batsmen\n",
            "captain\n",
            "repres\n",
            "indian\n",
            "cricket\n",
            "team\n",
            "captain\n",
            "side\n",
            "limit\n",
            "over\n",
            "format\n",
            "test\n",
            "cricket\n",
            "dhoni\n",
            "captain\n",
            "intern\n",
            "match\n",
            "success\n",
            "indian\n",
            "captain\n",
            "led\n",
            "india\n",
            "victori\n",
            "cricket\n",
            "world\n",
            "cup\n",
            "icc\n",
            "world\n",
            "twenti\n",
            "icc\n",
            "champion\n",
            "trophi\n",
            "captain\n",
            "win\n",
            "three\n",
            "differ\n",
            "limit\n",
            "over\n",
            "tournament\n",
            "also\n",
            "led\n",
            "team\n",
            "asia\n",
            "cup\n",
            "member\n",
            "titl\n",
            "win\n",
            "squad\n",
            "born\n",
            "ranchi\n",
            "dhoni\n",
            "made\n",
            "first\n",
            "class\n",
            "debut\n",
            "bihar\n",
            "made\n",
            "debut\n",
            "indian\n",
            "cricket\n",
            "team\n",
            "decemb\n",
            "odi\n",
            "bangladesh\n",
            "play\n",
            "first\n",
            "test\n",
            "year\n",
            "later\n",
            "sri\n",
            "lanka\n",
            "becam\n",
            "captain\n",
            "odi\n",
            "side\n",
            "take\n",
            "format\n",
            "dhoni\n",
            "retir\n",
            "test\n",
            "cricket\n",
            "continu\n",
            "play\n",
            "limit\n",
            "over\n",
            "cricket\n",
            "till\n",
            "score\n",
            "run\n",
            "intern\n",
            "cricket\n",
            "includ\n",
            "plu\n",
            "run\n",
            "averag\n",
            "odi\n",
            "indian\n",
            "premier\n",
            "leagu\n",
            "ipl\n",
            "dhoni\n",
            "play\n",
            "chennai\n",
            "super\n",
            "king\n",
            "csk\n",
            "lead\n",
            "final\n",
            "ten\n",
            "occas\n",
            "win\n",
            "five\n",
            "time\n",
            "also\n",
            "led\n",
            "csk\n",
            "two\n",
            "champion\n",
            "leagu\n",
            "titl\n",
            "dhoni\n",
            "amongst\n",
            "batsmen\n",
            "score\n",
            "five\n",
            "thousand\n",
            "run\n",
            "ipl\n",
            "well\n",
            "first\n",
            "wicket\n",
            "keeper\n"
          ]
        }
      ]
    },
    {
      "cell_type": "code",
      "source": [
        "## Stemming\n",
        "for i in corpus:\n",
        "  words = nltk.word_tokenize(i)\n",
        "  #print(words)\n",
        "  for word in words:\n",
        "\n",
        "    if word not in set(stopwords.words('english')):\n",
        "      print(lemmatizer.lemmatize(word))"
      ],
      "metadata": {
        "colab": {
          "base_uri": "https://localhost:8080/"
        },
        "id": "CW6HYm6qM2yi",
        "outputId": "c5c1d779-55cc-4dae-cdd9-3ad0955f8eed"
      },
      "execution_count": 22,
      "outputs": [
        {
          "output_type": "stream",
          "name": "stdout",
          "text": [
            "mahendra\n",
            "singh\n",
            "dhoni\n",
            "ndr\n",
            "dh\n",
            "n\n",
            "born\n",
            "july\n",
            "indian\n",
            "professional\n",
            "cricketer\n",
            "play\n",
            "right\n",
            "handed\n",
            "batter\n",
            "wicket\n",
            "keeper\n",
            "widely\n",
            "regarded\n",
            "one\n",
            "prolific\n",
            "wicket\n",
            "keeper\n",
            "batsman\n",
            "captain\n",
            "represented\n",
            "indian\n",
            "cricket\n",
            "team\n",
            "captain\n",
            "side\n",
            "limited\n",
            "over\n",
            "format\n",
            "test\n",
            "cricket\n",
            "dhoni\n",
            "captained\n",
            "international\n",
            "match\n",
            "successful\n",
            "indian\n",
            "captain\n",
            "led\n",
            "india\n",
            "victory\n",
            "cricket\n",
            "world\n",
            "cup\n",
            "icc\n",
            "world\n",
            "twenty\n",
            "icc\n",
            "champion\n",
            "trophy\n",
            "captain\n",
            "win\n",
            "three\n",
            "different\n",
            "limited\n",
            "over\n",
            "tournament\n",
            "also\n",
            "led\n",
            "team\n",
            "asia\n",
            "cup\n",
            "member\n",
            "title\n",
            "winning\n",
            "squad\n",
            "born\n",
            "ranchi\n",
            "dhoni\n",
            "made\n",
            "first\n",
            "class\n",
            "debut\n",
            "bihar\n",
            "made\n",
            "debut\n",
            "indian\n",
            "cricket\n",
            "team\n",
            "december\n",
            "odi\n",
            "bangladesh\n",
            "played\n",
            "first\n",
            "test\n",
            "year\n",
            "later\n",
            "sri\n",
            "lanka\n",
            "became\n",
            "captain\n",
            "odi\n",
            "side\n",
            "taking\n",
            "format\n",
            "dhoni\n",
            "retired\n",
            "test\n",
            "cricket\n",
            "continued\n",
            "playing\n",
            "limited\n",
            "over\n",
            "cricket\n",
            "till\n",
            "scored\n",
            "run\n",
            "international\n",
            "cricket\n",
            "including\n",
            "plus\n",
            "run\n",
            "average\n",
            "odis\n",
            "indian\n",
            "premier\n",
            "league\n",
            "ipl\n",
            "dhoni\n",
            "play\n",
            "chennai\n",
            "super\n",
            "king\n",
            "csk\n",
            "leading\n",
            "final\n",
            "ten\n",
            "occasion\n",
            "winning\n",
            "five\n",
            "time\n",
            "also\n",
            "led\n",
            "csk\n",
            "two\n",
            "champion\n",
            "league\n",
            "title\n",
            "dhoni\n",
            "amongst\n",
            "batsman\n",
            "scored\n",
            "five\n",
            "thousand\n",
            "run\n",
            "ipl\n",
            "well\n",
            "first\n",
            "wicket\n",
            "keeper\n"
          ]
        }
      ]
    },
    {
      "cell_type": "code",
      "source": [
        "from sklearn.feature_extraction.text import CountVectorizer\n",
        "cv = CountVectorizer()"
      ],
      "metadata": {
        "id": "AjW6q21QO1On"
      },
      "execution_count": 23,
      "outputs": []
    },
    {
      "cell_type": "code",
      "source": [
        "X=cv.fit_transform(corpus)"
      ],
      "metadata": {
        "id": "5WmK_AGePQj9"
      },
      "execution_count": 24,
      "outputs": []
    },
    {
      "cell_type": "code",
      "source": [
        "cv = CountVectorizer()"
      ],
      "metadata": {
        "id": "R-pEbr0QPVcH"
      },
      "execution_count": 25,
      "outputs": []
    },
    {
      "cell_type": "code",
      "source": [
        "corpus[0]"
      ],
      "metadata": {
        "colab": {
          "base_uri": "https://localhost:8080/",
          "height": 52
        },
        "id": "4IWdDKJ2PW4f",
        "outputId": "49bf24b3-c7d2-496b-8e91-6a1041c14cb1"
      },
      "execution_count": 26,
      "outputs": [
        {
          "output_type": "execute_result",
          "data": {
            "text/plain": [
              "'mahendra singh dhoni   m  he ndr   s   dh  n      born   july       is an indian professional cricketer who plays as a right handed batter and a wicket keeper '"
            ],
            "application/vnd.google.colaboratory.intrinsic+json": {
              "type": "string"
            }
          },
          "metadata": {},
          "execution_count": 26
        }
      ]
    },
    {
      "cell_type": "code",
      "source": [
        "X[0].toarray()"
      ],
      "metadata": {
        "colab": {
          "base_uri": "https://localhost:8080/"
        },
        "id": "ferViG4yPuLB",
        "outputId": "bffe0e6b-f32f-4afe-c877-4a53e7ac9d94"
      },
      "execution_count": 27,
      "outputs": [
        {
          "output_type": "execute_result",
          "data": {
            "text/plain": [
              "array([[0, 0, 0, 0, 1, 1, 1, 0, 0, 0, 0, 0, 1, 0, 0, 0, 0, 1, 0, 0, 0, 0,\n",
              "        0, 0, 0, 0, 0, 0, 1, 0, 0, 0, 0, 1, 1, 0, 0, 0, 0, 0, 0, 0, 0, 0,\n",
              "        1, 0, 0, 1, 0, 0, 0, 0, 0, 1, 0, 0, 1, 0, 1, 1, 0, 0, 0, 0, 0, 0,\n",
              "        0, 0, 1, 0, 0, 0, 0, 1, 0, 0, 0, 0, 0, 0, 0, 0, 0, 0, 0, 1, 0, 0,\n",
              "        1, 0, 0, 0, 0, 0, 1, 0, 0, 0, 1, 0, 0, 0, 0, 0, 0, 0, 0, 0, 0, 0,\n",
              "        0, 0, 0, 0, 0, 0, 0, 0, 0, 0, 0, 0, 0, 0, 0, 0, 0, 1, 1, 0, 0, 0,\n",
              "        0, 0, 0]])"
            ]
          },
          "metadata": {},
          "execution_count": 27
        }
      ]
    },
    {
      "cell_type": "code",
      "source": [
        "X[0].toarray()[0][68]"
      ],
      "metadata": {
        "colab": {
          "base_uri": "https://localhost:8080/"
        },
        "id": "RxWjIem0PxSu",
        "outputId": "c73621bf-022c-4b05-9d9b-feaf363feb34"
      },
      "execution_count": 28,
      "outputs": [
        {
          "output_type": "execute_result",
          "data": {
            "text/plain": [
              "1"
            ]
          },
          "metadata": {},
          "execution_count": 28
        }
      ]
    },
    {
      "cell_type": "code",
      "source": [
        "### Binary\n",
        "cv_b = CountVectorizer(binary=True)"
      ],
      "metadata": {
        "id": "0TmkmubmQC8T"
      },
      "execution_count": 29,
      "outputs": []
    },
    {
      "cell_type": "code",
      "source": [
        "X_b = cv_b.fit_transform(corpus)"
      ],
      "metadata": {
        "id": "pX8eCFRT-3ea"
      },
      "execution_count": 32,
      "outputs": []
    },
    {
      "cell_type": "code",
      "source": [
        "X_b[0].toarray()"
      ],
      "metadata": {
        "colab": {
          "base_uri": "https://localhost:8080/"
        },
        "id": "6b0QLf6n_B61",
        "outputId": "48450863-a52e-43d6-9ed8-9be4ef5df1cd"
      },
      "execution_count": 34,
      "outputs": [
        {
          "output_type": "execute_result",
          "data": {
            "text/plain": [
              "array([[0, 0, 0, 0, 1, 1, 1, 0, 0, 0, 0, 0, 1, 0, 0, 0, 0, 1, 0, 0, 0, 0,\n",
              "        0, 0, 0, 0, 0, 0, 1, 0, 0, 0, 0, 1, 1, 0, 0, 0, 0, 0, 0, 0, 0, 0,\n",
              "        1, 0, 0, 1, 0, 0, 0, 0, 0, 1, 0, 0, 1, 0, 1, 1, 0, 0, 0, 0, 0, 0,\n",
              "        0, 0, 1, 0, 0, 0, 0, 1, 0, 0, 0, 0, 0, 0, 0, 0, 0, 0, 0, 1, 0, 0,\n",
              "        1, 0, 0, 0, 0, 0, 1, 0, 0, 0, 1, 0, 0, 0, 0, 0, 0, 0, 0, 0, 0, 0,\n",
              "        0, 0, 0, 0, 0, 0, 0, 0, 0, 0, 0, 0, 0, 0, 0, 0, 0, 1, 1, 0, 0, 0,\n",
              "        0, 0, 0]])"
            ]
          },
          "metadata": {},
          "execution_count": 34
        }
      ]
    },
    {
      "cell_type": "code",
      "source": [
        "### Apply Stopwords.lemmatize\n",
        "import re\n",
        "corpus=[]\n",
        "for i in range(len(sentences)):\n",
        "  review = re.sub('[^a-zA-Z]',' ' ,sentences[i])\n",
        "  #print(review)\n",
        "  review = review.lower()\n",
        "  review = review.split()\n",
        "  review = [lemmatizer.lemmatize(word) for word in sentences[i] if word is not set(stopwords.words(\"english\"))]\n",
        "  print(review)\n",
        "  review = ''.join(review)\n",
        "  corpus.append(review)\n",
        "print(corpus)"
      ],
      "metadata": {
        "colab": {
          "base_uri": "https://localhost:8080/"
        },
        "id": "1MaPt2h6_U4S",
        "outputId": "3b901250-a22a-40d5-ac07-608f23686531"
      },
      "execution_count": 46,
      "outputs": [
        {
          "output_type": "stream",
          "name": "stdout",
          "text": [
            "['M', 'a', 'h', 'e', 'n', 'd', 'r', 'a', ' ', 'S', 'i', 'n', 'g', 'h', ' ', 'D', 'h', 'o', 'n', 'i', ' ', '(', '/', 'm', 'ə', 'ˈ', 'h', 'e', 'ɪ', 'n', 'd', 'r', 'ə', ' ', 'ˈ', 's', 'ɪ', 'ŋ', ' ', 'd', 'h', 'æ', 'ˈ', 'n', 'ɪ', '/', ' ', 'ⓘ', ';', ' ', 'b', 'o', 'r', 'n', ' ', '7', ' ', 'J', 'u', 'l', 'y', ' ', '1', '9', '8', '1', ')', ' ', 'i', 's', ' ', 'a', 'n', ' ', 'I', 'n', 'd', 'i', 'a', 'n', ' ', 'p', 'r', 'o', 'f', 'e', 's', 's', 'i', 'o', 'n', 'a', 'l', ' ', 'c', 'r', 'i', 'c', 'k', 'e', 't', 'e', 'r', ' ', 'w', 'h', 'o', ' ', 'p', 'l', 'a', 'y', 's', ' ', 'a', 's', ' ', 'a', ' ', 'r', 'i', 'g', 'h', 't', ' ', 'h', 'a', 'n', 'd', 'e', 'd', ' ', 'b', 'a', 't', 't', 'e', 'r', ' ', 'a', 'n', 'd', ' ', 'a', ' ', 'w', 'i', 'c', 'k', 'e', 't', '-', 'k', 'e', 'e', 'p', 'e', 'r', '.']\n",
            "['W', 'i', 'd', 'e', 'l', 'y', ' ', 'r', 'e', 'g', 'a', 'r', 'd', 'e', 'd', ' ', 'a', 's', ' ', 'o', 'n', 'e', ' ', 'o', 'f', ' ', 't', 'h', 'e', ' ', 'm', 'o', 's', 't', ' ', 'p', 'r', 'o', 'l', 'i', 'f', 'i', 'c', ' ', 'w', 'i', 'c', 'k', 'e', 't', '-', 'k', 'e', 'e', 'p', 'e', 'r', '-', 'b', 'a', 't', 's', 'm', 'e', 'n', ' ', 'a', 'n', 'd', ' ', 'c', 'a', 'p', 't', 'a', 'i', 'n', 's', ',', ' ', 'h', 'e', ' ', 'r', 'e', 'p', 'r', 'e', 's', 'e', 'n', 't', 'e', 'd', ' ', 't', 'h', 'e', ' ', 'I', 'n', 'd', 'i', 'a', 'n', ' ', 'c', 'r', 'i', 'c', 'k', 'e', 't', ' ', 't', 'e', 'a', 'm', ' ', 'a', 'n', 'd', ' ', 'w', 'a', 's', ' ', 't', 'h', 'e', ' ', 'c', 'a', 'p', 't', 'a', 'i', 'n', ' ', 'o', 'f', ' ', 't', 'h', 'e', ' ', 's', 'i', 'd', 'e', ' ', 'i', 'n', ' ', 'l', 'i', 'm', 'i', 't', 'e', 'd', '-', 'o', 'v', 'e', 'r', 's', ' ', 'f', 'o', 'r', 'm', 'a', 't', 's', ' ', 'f', 'r', 'o', 'm', ' ', '2', '0', '0', '7', ' ', 't', 'o', ' ', '2', '0', '1', '7', ' ', 'a', 'n', 'd', ' ', 'i', 'n', ' ', 't', 'e', 's', 't', ' ', 'c', 'r', 'i', 'c', 'k', 'e', 't', ' ', 'f', 'r', 'o', 'm', ' ', '2', '0', '0', '8', ' ', 't', 'o', ' ', '2', '0', '1', '4', '.']\n",
            "['D', 'h', 'o', 'n', 'i', ' ', 'h', 'a', 's', ' ', 'c', 'a', 'p', 't', 'a', 'i', 'n', 'e', 'd', ' ', 't', 'h', 'e', ' ', 'm', 'o', 's', 't', ' ', 'i', 'n', 't', 'e', 'r', 'n', 'a', 't', 'i', 'o', 'n', 'a', 'l', ' ', 'm', 'a', 't', 'c', 'h', 'e', 's', ' ', 'a', 'n', 'd', ' ', 'i', 's', ' ', 't', 'h', 'e', ' ', 'm', 'o', 's', 't', ' ', 's', 'u', 'c', 'c', 'e', 's', 's', 'f', 'u', 'l', ' ', 'I', 'n', 'd', 'i', 'a', 'n', ' ', 'c', 'a', 'p', 't', 'a', 'i', 'n', '.']\n",
            "['H', 'e', ' ', 'h', 'a', 's', ' ', 'l', 'e', 'd', ' ', 'I', 'n', 'd', 'i', 'a', ' ', 't', 'o', ' ', 'v', 'i', 'c', 't', 'o', 'r', 'y', ' ', 'i', 'n', ' ', 't', 'h', 'e', ' ', '2', '0', '1', '1', ' ', 'C', 'r', 'i', 'c', 'k', 'e', 't', ' ', 'W', 'o', 'r', 'l', 'd', ' ', 'C', 'u', 'p', ',', ' ', 't', 'h', 'e', ' ', '2', '0', '0', '7', ' ', 'I', 'C', 'C', ' ', 'W', 'o', 'r', 'l', 'd', ' ', 'T', 'w', 'e', 'n', 't', 'y', '2', '0', ' ', 'a', 'n', 'd', ' ', 't', 'h', 'e', ' ', '2', '0', '1', '3', ' ', 'I', 'C', 'C', ' ', 'C', 'h', 'a', 'm', 'p', 'i', 'o', 'n', 's', ' ', 'T', 'r', 'o', 'p', 'h', 'y', ',', ' ', 't', 'h', 'e', ' ', 'o', 'n', 'l', 'y', ' ', 'c', 'a', 'p', 't', 'a', 'i', 'n', ' ', 't', 'o', ' ', 'w', 'i', 'n', ' ', 't', 'h', 'r', 'e', 'e', ' ', 'd', 'i', 'f', 'f', 'e', 'r', 'e', 'n', 't', ' ', 'l', 'i', 'm', 'i', 't', 'e', 'd', ' ', 'o', 'v', 'e', 'r', 's', ' ', 't', 'o', 'u', 'r', 'n', 'a', 'm', 'e', 'n', 't', 's', '.']\n",
            "['H', 'e', ' ', 'a', 'l', 's', 'o', ' ', 'l', 'e', 'd', ' ', 't', 'h', 'e', ' ', 't', 'e', 'a', 'm', 's', ' ', 't', 'h', 'a', 't', ' ', 'w', 'o', 'n', ' ', 't', 'h', 'e', ' ', 'A', 's', 'i', 'a', ' ', 'C', 'u', 'p', ' ', 'i', 'n', ' ', '2', '0', '1', '0', ',', ' ', '2', '0', '1', '6', ' ', 'a', 'n', 'd', ' ', 'w', 'a', 's', ' ', 'a', ' ', 'm', 'e', 'm', 'b', 'e', 'r', ' ', 'o', 'f', ' ', 't', 'h', 'e', ' ', 't', 'i', 't', 'l', 'e', ' ', 'w', 'i', 'n', 'n', 'i', 'n', 'g', ' ', 's', 'q', 'u', 'a', 'd', ' ', 'i', 'n', ' ', '2', '0', '1', '8', '.', 'B', 'o', 'r', 'n', ' ', 'i', 'n', ' ', 'R', 'a', 'n', 'c', 'h', 'i', ',', ' ', 'D', 'h', 'o', 'n', 'i', ' ', 'm', 'a', 'd', 'e', ' ', 'h', 'i', 's', ' ', 'f', 'i', 'r', 's', 't', ' ', 'c', 'l', 'a', 's', 's', ' ', 'd', 'e', 'b', 'u', 't', ' ', 'f', 'o', 'r', ' ', 'B', 'i', 'h', 'a', 'r', ' ', 'i', 'n', ' ', '1', '9', '9', '9', '.']\n",
            "['H', 'e', ' ', 'm', 'a', 'd', 'e', ' ', 'h', 'i', 's', ' ', 'd', 'e', 'b', 'u', 't', ' ', 'f', 'o', 'r', ' ', 't', 'h', 'e', ' ', 'I', 'n', 'd', 'i', 'a', 'n', ' ', 'c', 'r', 'i', 'c', 'k', 'e', 't', ' ', 't', 'e', 'a', 'm', ' ', 'o', 'n', ' ', '2', '3', ' ', 'D', 'e', 'c', 'e', 'm', 'b', 'e', 'r', ' ', '2', '0', '0', '4', ' ', 'i', 'n', ' ', 'a', 'n', ' ', 'O', 'D', 'I', ' ', 'a', 'g', 'a', 'i', 'n', 's', 't', ' ', 'B', 'a', 'n', 'g', 'l', 'a', 'd', 'e', 's', 'h', ' ', 'a', 'n', 'd', ' ', 'p', 'l', 'a', 'y', 'e', 'd', ' ', 'h', 'i', 's', ' ', 'f', 'i', 'r', 's', 't', ' ', 't', 'e', 's', 't', ' ', 'a', ' ', 'y', 'e', 'a', 'r', ' ', 'l', 'a', 't', 'e', 'r', ' ', 'a', 'g', 'a', 'i', 'n', 's', 't', ' ', 'S', 'r', 'i', ' ', 'L', 'a', 'n', 'k', 'a', '.']\n",
            "['I', 'n', ' ', '2', '0', '0', '7', ',', ' ', 'h', 'e', ' ', 'b', 'e', 'c', 'a', 'm', 'e', ' ', 't', 'h', 'e', ' ', 'c', 'a', 'p', 't', 'a', 'i', 'n', ' ', 'o', 'f', ' ', 't', 'h', 'e', ' ', 'O', 'D', 'I', ' ', 's', 'i', 'd', 'e', ' ', 'b', 'e', 'f', 'o', 'r', 'e', ' ', 't', 'a', 'k', 'i', 'n', 'g', ' ', 'o', 'v', 'e', 'r', ' ', 'i', 'n', ' ', 'a', 'l', 'l', ' ', 'f', 'o', 'r', 'm', 'a', 't', 's', ' ', 'b', 'y', ' ', '2', '0', '0', '8', '.']\n",
            "['D', 'h', 'o', 'n', 'i', ' ', 'r', 'e', 't', 'i', 'r', 'e', 'd', ' ', 'f', 'r', 'o', 'm', ' ', 't', 'e', 's', 't', ' ', 'c', 'r', 'i', 'c', 'k', 'e', 't', ' ', 'i', 'n', ' ', '2', '0', '1', '4', ',', ' ', 'b', 'u', 't', ' ', 'c', 'o', 'n', 't', 'i', 'n', 'u', 'e', 'd', ' ', 'p', 'l', 'a', 'y', 'i', 'n', 'g', ' ', 'i', 'n', ' ', 'l', 'i', 'm', 'i', 't', 'e', 'd', ' ', 'o', 'v', 'e', 'r', 's', ' ', 'c', 'r', 'i', 'c', 'k', 'e', 't', ' ', 't', 'i', 'l', 'l', ' ', '2', '0', '1', '9', '.']\n",
            "['H', 'e', ' ', 'h', 'a', 's', ' ', 's', 'c', 'o', 'r', 'e', 'd', ' ', '1', '7', ',', '2', '6', '6', ' ', 'r', 'u', 'n', 's', ' ', 'i', 'n', ' ', 'i', 'n', 't', 'e', 'r', 'n', 'a', 't', 'i', 'o', 'n', 'a', 'l', ' ', 'c', 'r', 'i', 'c', 'k', 'e', 't', ' ', 'i', 'n', 'c', 'l', 'u', 'd', 'i', 'n', 'g', ' ', '1', '0', ',', '0', '0', '0', ' ', 'p', 'l', 'u', 's', ' ', 'r', 'u', 'n', 's', ' ', 'a', 't', ' ', 'a', 'n', ' ', 'a', 'v', 'e', 'r', 'a', 'g', 'e', ' ', 'o', 'f', ' ', 'm', 'o', 'r', 'e', ' ', 't', 'h', 'a', 'n', ' ', '5', '0', ' ', 'i', 'n', ' ', 'O', 'D', 'I', 's', '.', 'I', 'n', ' ', 't', 'h', 'e', ' ', 'I', 'n', 'd', 'i', 'a', 'n', ' ', 'P', 'r', 'e', 'm', 'i', 'e', 'r', ' ', 'L', 'e', 'a', 'g', 'u', 'e', ' ', '(', 'I', 'P', 'L', ')', ',', ' ', 'D', 'h', 'o', 'n', 'i', ' ', 'p', 'l', 'a', 'y', 's', ' ', 'f', 'o', 'r', ' ', 'C', 'h', 'e', 'n', 'n', 'a', 'i', ' ', 'S', 'u', 'p', 'e', 'r', ' ', 'K', 'i', 'n', 'g', 's', ' ', '(', 'C', 'S', 'K', ')', ',', ' ', 'l', 'e', 'a', 'd', 'i', 'n', 'g', ' ', 't', 'h', 'e', 'm', ' ', 't', 'o', ' ', 't', 'h', 'e', ' ', 'f', 'i', 'n', 'a', 'l', ' ', 'o', 'n', ' ', 't', 'e', 'n', ' ', 'o', 'c', 'c', 'a', 's', 'i', 'o', 'n', 's', ' ', 'a', 'n', 'd', ' ', 'w', 'i', 'n', 'n', 'i', 'n', 'g', ' ', 'i', 't', ' ', 'f', 'i', 'v', 'e', ' ', 't', 'i', 'm', 'e', 's', ' ', '(', '2', '0', '1', '0', ',', ' ', '2', '0', '1', '1', ',', ' ', '2', '0', '1', '8', ',', ' ', '2', '0', '2', '1', ' ', 'a', 'n', 'd', ' ', '2', '0', '2', '3', ')', '.']\n",
            "['H', 'e', ' ', 'h', 'a', 's', ' ', 'a', 'l', 's', 'o', ' ', 'l', 'e', 'd', ' ', 'C', 'S', 'K', ' ', 't', 'o', ' ', 't', 'w', 'o', ' ', 'C', 'h', 'a', 'm', 'p', 'i', 'o', 'n', 's', ' ', 'L', 'e', 'a', 'g', 'u', 'e', ' ', 'T', '2', '0', ' ', 't', 'i', 't', 'l', 'e', 's', ' ', 'i', 'n', ' ', '2', '0', '1', '0', ' ', 'a', 'n', 'd', ' ', '2', '0', '1', '4', '.']\n",
            "['D', 'h', 'o', 'n', 'i', ' ', 'i', 's', ' ', 'a', 'm', 'o', 'n', 'g', 's', 't', ' ', 't', 'h', 'e', ' ', 'f', 'e', 'w', ' ', 'b', 'a', 't', 's', 'm', 'e', 'n', ' ', 't', 'o', ' ', 'h', 'a', 'v', 'e', ' ', 's', 'c', 'o', 'r', 'e', 'd', ' ', 'm', 'o', 'r', 'e', ' ', 't', 'h', 'a', 'n', ' ', 'f', 'i', 'v', 'e', ' ', 't', 'h', 'o', 'u', 's', 'a', 'n', 'd', ' ', 'r', 'u', 'n', 's', ' ', 'i', 'n', ' ', 't', 'h', 'e', ' ', 'I', 'P', 'L', ',', ' ', 'a', 's', ' ', 'w', 'e', 'l', 'l', ' ', 'a', 's', ' ', 'b', 'e', 'i', 'n', 'g', ' ', 't', 'h', 'e', ' ', 'f', 'i', 'r', 's', 't', ' ', 'w', 'i', 'c', 'k', 'e', 't', '-', 'k', 'e', 'e', 'p', 'e', 'r', ' ', 't', 'o', ' ', 'd', 'o', ' ', 's', 'o', '.']\n",
            "['Mahendra Singh Dhoni (/məˈheɪndrə ˈsɪŋ dhæˈnɪ/ ⓘ; born 7 July 1981) is an Indian professional cricketer who plays as a right handed batter and a wicket-keeper.', 'Widely regarded as one of the most prolific wicket-keeper-batsmen and captains, he represented the Indian cricket team and was the captain of the side in limited-overs formats from 2007 to 2017 and in test cricket from 2008 to 2014.', 'Dhoni has captained the most international matches and is the most successful Indian captain.', 'He has led India to victory in the 2011 Cricket World Cup, the 2007 ICC World Twenty20 and the 2013 ICC Champions Trophy, the only captain to win three different limited overs tournaments.', 'He also led the teams that won the Asia Cup in 2010, 2016 and was a member of the title winning squad in 2018.Born in Ranchi, Dhoni made his first class debut for Bihar in 1999.', 'He made his debut for the Indian cricket team on 23 December 2004 in an ODI against Bangladesh and played his first test a year later against Sri Lanka.', 'In 2007, he became the captain of the ODI side before taking over in all formats by 2008.', 'Dhoni retired from test cricket in 2014, but continued playing in limited overs cricket till 2019.', 'He has scored 17,266 runs in international cricket including 10,000 plus runs at an average of more than 50 in ODIs.In the Indian Premier League (IPL), Dhoni plays for Chennai Super Kings (CSK), leading them to the final on ten occasions and winning it five times (2010, 2011, 2018, 2021 and 2023).', 'He has also led CSK to two Champions League T20 titles in 2010 and 2014.', 'Dhoni is amongst the few batsmen to have scored more than five thousand runs in the IPL, as well as being the first wicket-keeper to do so.']\n"
          ]
        }
      ]
    },
    {
      "cell_type": "code",
      "source": [
        "\n"
      ],
      "metadata": {
        "id": "17zLLOX2_uKI"
      },
      "execution_count": 52,
      "outputs": []
    },
    {
      "cell_type": "code",
      "source": [],
      "metadata": {
        "colab": {
          "base_uri": "https://localhost:8080/"
        },
        "id": "STg6DiyiAefe",
        "outputId": "0c6aa405-dbfb-4b03-b69f-fbcbc9832008"
      },
      "execution_count": 47,
      "outputs": [
        {
          "output_type": "execute_result",
          "data": {
            "text/plain": [
              "['Mahendra Singh Dhoni (/məˈheɪndrə ˈsɪŋ dhæˈnɪ/ ⓘ; born 7 July 1981) is an Indian professional cricketer who plays as a right handed batter and a wicket-keeper.',\n",
              " 'Widely regarded as one of the most prolific wicket-keeper-batsmen and captains, he represented the Indian cricket team and was the captain of the side in limited-overs formats from 2007 to 2017 and in test cricket from 2008 to 2014.',\n",
              " 'Dhoni has captained the most international matches and is the most successful Indian captain.',\n",
              " 'He has led India to victory in the 2011 Cricket World Cup, the 2007 ICC World Twenty20 and the 2013 ICC Champions Trophy, the only captain to win three different limited overs tournaments.',\n",
              " 'He also led the teams that won the Asia Cup in 2010, 2016 and was a member of the title winning squad in 2018.Born in Ranchi, Dhoni made his first class debut for Bihar in 1999.',\n",
              " 'He made his debut for the Indian cricket team on 23 December 2004 in an ODI against Bangladesh and played his first test a year later against Sri Lanka.',\n",
              " 'In 2007, he became the captain of the ODI side before taking over in all formats by 2008.',\n",
              " 'Dhoni retired from test cricket in 2014, but continued playing in limited overs cricket till 2019.',\n",
              " 'He has scored 17,266 runs in international cricket including 10,000 plus runs at an average of more than 50 in ODIs.In the Indian Premier League (IPL), Dhoni plays for Chennai Super Kings (CSK), leading them to the final on ten occasions and winning it five times (2010, 2011, 2018, 2021 and 2023).',\n",
              " 'He has also led CSK to two Champions League T20 titles in 2010 and 2014.',\n",
              " 'Dhoni is amongst the few batsmen to have scored more than five thousand runs in the IPL, as well as being the first wicket-keeper to do so.']"
            ]
          },
          "metadata": {},
          "execution_count": 47
        }
      ]
    },
    {
      "cell_type": "code",
      "source": [
        "from sklearn.feature_extraction.text import CountVectorizer\n",
        "cv = CountVectorizer(bin)\n",
        "X=cv.fit_transform(corpus)\n",
        "\n"
      ],
      "metadata": {
        "colab": {
          "base_uri": "https://localhost:8080/"
        },
        "id": "extNfuEhApfu",
        "outputId": "782f9480-12f8-4d68-a77b-a0ee03da8ee9"
      },
      "execution_count": 49,
      "outputs": [
        {
          "output_type": "execute_result",
          "data": {
            "text/plain": [
              "array([[0, 0, 0, 0, 0, 0, 1, 1, 0, 0, 0, 1, 0, 1, 0, 0, 0, 0, 0, 0, 0, 0,\n",
              "        0, 0, 0, 0, 3, 1, 0, 0, 0, 0, 1, 0, 0, 0, 0, 0, 0, 0, 0, 1, 0, 1,\n",
              "        0, 0, 0, 0, 2, 0, 0, 0, 0, 0, 0, 0, 0, 0, 0, 0, 0, 0, 0, 1, 2, 0,\n",
              "        0, 0, 1, 0, 0, 2, 0, 0, 1, 0, 0, 0, 0, 0, 1, 0, 0, 0, 0, 0, 0, 1,\n",
              "        0, 0, 0, 0, 0, 1, 0, 0, 0, 0, 2, 0, 1, 0, 0, 1, 0, 0, 0, 0, 0, 0,\n",
              "        1, 0, 1, 1, 0, 0, 0, 0, 1, 0, 0, 0, 0, 0, 0, 0, 0, 1, 0, 0, 1, 0,\n",
              "        0, 4, 0, 0, 0, 0, 0, 0, 0, 2, 0, 0, 0, 0, 0, 1, 0, 0, 1, 1, 0, 0,\n",
              "        0, 0, 0, 0]])"
            ]
          },
          "metadata": {},
          "execution_count": 49
        }
      ]
    },
    {
      "cell_type": "code",
      "source": [
        "### Vocablary\n",
        "cv.vocabulary_"
      ],
      "metadata": {
        "colab": {
          "base_uri": "https://localhost:8080/"
        },
        "id": "olbDDyp0BvAO",
        "outputId": "3e2c3f19-34bd-4579-9183-7e00160693ef"
      },
      "execution_count": 53,
      "outputs": [
        {
          "output_type": "execute_result",
          "data": {
            "text/plain": [
              "{'mahendra': 89,\n",
              " 'singh': 119,\n",
              " 'dhoni': 54,\n",
              " 'məˈheɪndrə': 94,\n",
              " 'ˈsɪŋ': 157,\n",
              " 'dhæˈnɪ': 55,\n",
              " 'born': 38,\n",
              " 'july': 79,\n",
              " '1981': 3,\n",
              " 'is': 77,\n",
              " 'an': 25,\n",
              " 'indian': 74,\n",
              " 'professional': 109,\n",
              " 'cricketer': 49,\n",
              " 'who': 149,\n",
              " 'plays': 106,\n",
              " 'as': 27,\n",
              " 'right': 115,\n",
              " 'handed': 65,\n",
              " 'batter': 33,\n",
              " 'and': 26,\n",
              " 'wicket': 150,\n",
              " 'keeper': 80,\n",
              " 'widely': 151,\n",
              " 'regarded': 112,\n",
              " 'one': 100,\n",
              " 'of': 98,\n",
              " 'the': 133,\n",
              " 'most': 93,\n",
              " 'prolific': 110,\n",
              " 'batsmen': 32,\n",
              " 'captains': 43,\n",
              " 'he': 68,\n",
              " 'represented': 113,\n",
              " 'cricket': 48,\n",
              " 'team': 127,\n",
              " 'was': 147,\n",
              " 'captain': 41,\n",
              " 'side': 118,\n",
              " 'in': 71,\n",
              " 'limited': 87,\n",
              " 'overs': 103,\n",
              " 'formats': 63,\n",
              " 'from': 64,\n",
              " '2007': 6,\n",
              " 'to': 141,\n",
              " '2017': 13,\n",
              " 'test': 130,\n",
              " '2008': 7,\n",
              " '2014': 11,\n",
              " 'has': 66,\n",
              " 'captained': 42,\n",
              " 'international': 75,\n",
              " 'matches': 90,\n",
              " 'successful': 123,\n",
              " 'led': 86,\n",
              " 'india': 73,\n",
              " 'victory': 146,\n",
              " '2011': 9,\n",
              " 'world': 155,\n",
              " 'cup': 51,\n",
              " 'icc': 70,\n",
              " 'twenty20': 144,\n",
              " '2013': 10,\n",
              " 'champions': 44,\n",
              " 'trophy': 143,\n",
              " 'only': 101,\n",
              " 'win': 152,\n",
              " 'three': 136,\n",
              " 'different': 56,\n",
              " 'tournaments': 142,\n",
              " 'also': 23,\n",
              " 'teams': 128,\n",
              " 'that': 132,\n",
              " 'won': 154,\n",
              " 'asia': 28,\n",
              " '2010': 8,\n",
              " '2016': 12,\n",
              " 'member': 91,\n",
              " 'title': 139,\n",
              " 'winning': 153,\n",
              " 'squad': 121,\n",
              " '2018': 14,\n",
              " 'ranchi': 111,\n",
              " 'made': 88,\n",
              " 'his': 69,\n",
              " 'first': 60,\n",
              " 'class': 46,\n",
              " 'debut': 52,\n",
              " 'for': 62,\n",
              " 'bihar': 37,\n",
              " '1999': 4,\n",
              " 'on': 99,\n",
              " '23': 18,\n",
              " 'december': 53,\n",
              " '2004': 5,\n",
              " 'odi': 96,\n",
              " 'against': 21,\n",
              " 'bangladesh': 31,\n",
              " 'played': 104,\n",
              " 'year': 156,\n",
              " 'later': 83,\n",
              " 'sri': 122,\n",
              " 'lanka': 82,\n",
              " 'became': 34,\n",
              " 'before': 35,\n",
              " 'taking': 126,\n",
              " 'over': 102,\n",
              " 'all': 22,\n",
              " 'by': 40,\n",
              " 'retired': 114,\n",
              " 'but': 39,\n",
              " 'continued': 47,\n",
              " 'playing': 105,\n",
              " 'till': 137,\n",
              " '2019': 15,\n",
              " 'scored': 117,\n",
              " '17': 2,\n",
              " '266': 19,\n",
              " 'runs': 116,\n",
              " 'including': 72,\n",
              " '10': 1,\n",
              " '000': 0,\n",
              " 'plus': 107,\n",
              " 'at': 29,\n",
              " 'average': 30,\n",
              " 'more': 92,\n",
              " 'than': 131,\n",
              " '50': 20,\n",
              " 'odis': 97,\n",
              " 'premier': 108,\n",
              " 'league': 85,\n",
              " 'ipl': 76,\n",
              " 'chennai': 45,\n",
              " 'super': 124,\n",
              " 'kings': 81,\n",
              " 'csk': 50,\n",
              " 'leading': 84,\n",
              " 'them': 134,\n",
              " 'final': 59,\n",
              " 'ten': 129,\n",
              " 'occasions': 95,\n",
              " 'it': 78,\n",
              " 'five': 61,\n",
              " 'times': 138,\n",
              " '2021': 16,\n",
              " '2023': 17,\n",
              " 'two': 145,\n",
              " 't20': 125,\n",
              " 'titles': 140,\n",
              " 'amongst': 24,\n",
              " 'few': 58,\n",
              " 'have': 67,\n",
              " 'thousand': 135,\n",
              " 'well': 148,\n",
              " 'being': 36,\n",
              " 'do': 57,\n",
              " 'so': 120}"
            ]
          },
          "metadata": {},
          "execution_count": 53
        }
      ]
    },
    {
      "cell_type": "code",
      "source": [
        "sentences[1]"
      ],
      "metadata": {
        "colab": {
          "base_uri": "https://localhost:8080/",
          "height": 52
        },
        "id": "Q97hWjm7ByPr",
        "outputId": "2d0bcd62-0d72-4c60-a7fd-01007b89c171"
      },
      "execution_count": 55,
      "outputs": [
        {
          "output_type": "execute_result",
          "data": {
            "text/plain": [
              "'Widely regarded as one of the most prolific wicket-keeper-batsmen and captains, he represented the Indian cricket team and was the captain of the side in limited-overs formats from 2007 to 2017 and in test cricket from 2008 to 2014.'"
            ],
            "application/vnd.google.colaboratory.intrinsic+json": {
              "type": "string"
            }
          },
          "metadata": {},
          "execution_count": 55
        }
      ]
    },
    {
      "cell_type": "code",
      "source": [],
      "metadata": {
        "id": "S029kCKLCVfH"
      },
      "execution_count": null,
      "outputs": []
    }
  ]
}