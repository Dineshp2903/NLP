{
  "nbformat": 4,
  "nbformat_minor": 0,
  "metadata": {
    "colab": {
      "provenance": [],
      "gpuType": "T4"
    },
    "kernelspec": {
      "name": "python3",
      "display_name": "Python 3"
    },
    "language_info": {
      "name": "python"
    },
    "accelerator": "GPU"
  },
  "cells": [
    {
      "cell_type": "code",
      "execution_count": null,
      "metadata": {
        "id": "CUT2UMEKSIPJ"
      },
      "outputs": [],
      "source": []
    },
    {
      "cell_type": "markdown",
      "source": [
        "## Word Embedding Techniques using Embedding Layer in Keras"
      ],
      "metadata": {
        "id": "26s049r1SO6e"
      }
    },
    {
      "cell_type": "code",
      "source": [
        "!pip install tensorflow-gpu"
      ],
      "metadata": {
        "colab": {
          "base_uri": "https://localhost:8080/"
        },
        "id": "kMAHWjgZTfmf",
        "outputId": "613cc982-bc6a-45f4-f881-91646176e1cd"
      },
      "execution_count": null,
      "outputs": [
        {
          "output_type": "stream",
          "name": "stdout",
          "text": [
            "Collecting tensorflow-gpu\n",
            "  Using cached tensorflow-gpu-2.12.0.tar.gz (2.6 kB)\n",
            "  \u001b[1;31merror\u001b[0m: \u001b[1msubprocess-exited-with-error\u001b[0m\n",
            "  \n",
            "  \u001b[31m×\u001b[0m \u001b[32mpython setup.py egg_info\u001b[0m did not run successfully.\n",
            "  \u001b[31m│\u001b[0m exit code: \u001b[1;36m1\u001b[0m\n",
            "  \u001b[31m╰─>\u001b[0m See above for output.\n",
            "  \n",
            "  \u001b[1;35mnote\u001b[0m: This error originates from a subprocess, and is likely not a problem with pip.\n",
            "  Preparing metadata (setup.py) ... \u001b[?25l\u001b[?25herror\n",
            "\u001b[1;31merror\u001b[0m: \u001b[1mmetadata-generation-failed\u001b[0m\n",
            "\n",
            "\u001b[31m×\u001b[0m Encountered error while generating package metadata.\n",
            "\u001b[31m╰─>\u001b[0m See above for output.\n",
            "\n",
            "\u001b[1;35mnote\u001b[0m: This is an issue with the package mentioned above, not pip.\n",
            "\u001b[1;36mhint\u001b[0m: See above for details.\n"
          ]
        }
      ]
    },
    {
      "cell_type": "code",
      "source": [
        "import tensorflow as tf\n",
        "print(tf.__version__)"
      ],
      "metadata": {
        "colab": {
          "base_uri": "https://localhost:8080/"
        },
        "id": "Ck3P9rGmUAEt",
        "outputId": "3fc5518d-54c8-4e42-85ca-16bbf86b52ed"
      },
      "execution_count": null,
      "outputs": [
        {
          "output_type": "stream",
          "name": "stdout",
          "text": [
            "2.15.0\n"
          ]
        }
      ]
    },
    {
      "cell_type": "code",
      "source": [
        "from tensorflow.keras.preprocessing.text import one_hot"
      ],
      "metadata": {
        "id": "mrngXGx_SVT8"
      },
      "execution_count": null,
      "outputs": []
    },
    {
      "cell_type": "code",
      "source": [
        "sent = [' the glass of milk',\n",
        "        'the glass of juice',\n",
        "        'the cup of tea',\n",
        "        'I am a good boy',\n",
        "        'I am a good developer',\n",
        "        'understand the meaning of words',\n",
        "        'your videos are good'\n",
        "        ]"
      ],
      "metadata": {
        "id": "PwNjxq9XSflu"
      },
      "execution_count": null,
      "outputs": []
    },
    {
      "cell_type": "code",
      "source": [
        "sent"
      ],
      "metadata": {
        "colab": {
          "base_uri": "https://localhost:8080/"
        },
        "id": "iyODZsGNTM6n",
        "outputId": "4ddaf790-3c87-4e17-d32c-9167890ffffa"
      },
      "execution_count": null,
      "outputs": [
        {
          "output_type": "execute_result",
          "data": {
            "text/plain": [
              "[' the glass of milk',\n",
              " 'the glass of juice',\n",
              " 'the cup of tea',\n",
              " 'I am a good boy',\n",
              " 'I am a good developer',\n",
              " 'understand the meaning of words',\n",
              " 'your videos are good']"
            ]
          },
          "metadata": {},
          "execution_count": 8
        }
      ]
    },
    {
      "cell_type": "code",
      "source": [
        "### Vocablary Size\n",
        "voc_size=10000"
      ],
      "metadata": {
        "id": "Cic7-ICTURKr"
      },
      "execution_count": null,
      "outputs": []
    },
    {
      "cell_type": "code",
      "source": [
        "one_hot_repr = [one_hot(words,voc_size) for words in sent]"
      ],
      "metadata": {
        "id": "wj27X6QLUdgo"
      },
      "execution_count": null,
      "outputs": []
    },
    {
      "cell_type": "code",
      "source": [
        "print(one_hot_repr)"
      ],
      "metadata": {
        "colab": {
          "base_uri": "https://localhost:8080/"
        },
        "id": "OEIHOk9hUpnd",
        "outputId": "3742b26a-2c12-4812-9546-374eb853236b"
      },
      "execution_count": null,
      "outputs": [
        {
          "output_type": "stream",
          "name": "stdout",
          "text": [
            "[[7877, 4449, 1046, 9630], [7877, 4449, 1046, 9714], [7877, 1876, 1046, 2196], [3590, 6731, 7791, 6618, 3069], [3590, 6731, 7791, 6618, 7491], [6135, 7877, 6370, 1046, 9957], [7315, 2197, 670, 6618]]\n"
          ]
        }
      ]
    },
    {
      "cell_type": "markdown",
      "source": [
        "## Word Embedding representation"
      ],
      "metadata": {
        "id": "ERCJkgtVUv2L"
      }
    },
    {
      "cell_type": "code",
      "source": [
        "from tensorflow.keras.layers import Embedding\n",
        "from tensorflow.keras.preprocessing.sequence import pad_sequences\n",
        "from tensorflow.keras.models import Sequential"
      ],
      "metadata": {
        "id": "ziKdpblNUtem"
      },
      "execution_count": null,
      "outputs": []
    },
    {
      "cell_type": "code",
      "source": [
        "import numpy as np"
      ],
      "metadata": {
        "id": "Xmzth9gWVXeX"
      },
      "execution_count": null,
      "outputs": []
    },
    {
      "cell_type": "code",
      "source": [
        "sent_length = 8\n",
        "embedded_docs = pad_sequences(one_hot_repr,padding='pre',maxlen=sent_length)\n",
        "print(embedded_docs)"
      ],
      "metadata": {
        "colab": {
          "base_uri": "https://localhost:8080/"
        },
        "id": "3vgNfaFZVdUu",
        "outputId": "7a11f3f0-d76b-4313-f36c-0bcf0e54b572"
      },
      "execution_count": null,
      "outputs": [
        {
          "output_type": "stream",
          "name": "stdout",
          "text": [
            "[[   0    0    0    0 7877 4449 1046 9630]\n",
            " [   0    0    0    0 7877 4449 1046 9714]\n",
            " [   0    0    0    0 7877 1876 1046 2196]\n",
            " [   0    0    0 3590 6731 7791 6618 3069]\n",
            " [   0    0    0 3590 6731 7791 6618 7491]\n",
            " [   0    0    0 6135 7877 6370 1046 9957]\n",
            " [   0    0    0    0 7315 2197  670 6618]]\n"
          ]
        }
      ]
    },
    {
      "cell_type": "code",
      "source": [
        "# Dim\n",
        "dim = 10"
      ],
      "metadata": {
        "id": "ZfVpEFSSVy6Y"
      },
      "execution_count": null,
      "outputs": []
    },
    {
      "cell_type": "code",
      "source": [
        "model = Sequential()\n",
        "model.add(Embedding(voc_size,10,input_length=sent_length))\n",
        "model.compile('adam','mse')"
      ],
      "metadata": {
        "id": "9hI0eUFAV2IV"
      },
      "execution_count": null,
      "outputs": []
    },
    {
      "cell_type": "code",
      "source": [
        "model.summary()"
      ],
      "metadata": {
        "colab": {
          "base_uri": "https://localhost:8080/"
        },
        "id": "sdUvY0YPWLan",
        "outputId": "4bb3880f-63cb-4733-96ca-cb8c4508bfd5"
      },
      "execution_count": null,
      "outputs": [
        {
          "output_type": "stream",
          "name": "stdout",
          "text": [
            "Model: \"sequential\"\n",
            "_________________________________________________________________\n",
            " Layer (type)                Output Shape              Param #   \n",
            "=================================================================\n",
            " embedding (Embedding)       (None, 8, 10)             100000    \n",
            "                                                                 \n",
            "=================================================================\n",
            "Total params: 100000 (390.62 KB)\n",
            "Trainable params: 100000 (390.62 KB)\n",
            "Non-trainable params: 0 (0.00 Byte)\n",
            "_________________________________________________________________\n"
          ]
        }
      ]
    },
    {
      "cell_type": "code",
      "source": [
        "embedded_docs[0]"
      ],
      "metadata": {
        "colab": {
          "base_uri": "https://localhost:8080/"
        },
        "id": "OjnzdWcCWOBL",
        "outputId": "4224f34e-e5c8-417a-b89e-d381f986cf0e"
      },
      "execution_count": null,
      "outputs": [
        {
          "output_type": "execute_result",
          "data": {
            "text/plain": [
              "array([   0,    0,    0,    0, 7877, 4449, 1046, 9630], dtype=int32)"
            ]
          },
          "metadata": {},
          "execution_count": 26
        }
      ]
    },
    {
      "cell_type": "code",
      "source": [
        "model.predict(embedded_docs[0])"
      ],
      "metadata": {
        "colab": {
          "base_uri": "https://localhost:8080/"
        },
        "id": "NdWZqf5hWTsk",
        "outputId": "e30d1854-d13a-4dde-92e6-b8a8012e2569"
      },
      "execution_count": null,
      "outputs": [
        {
          "output_type": "stream",
          "name": "stdout",
          "text": [
            "1/1 [==============================] - 0s 16ms/step\n"
          ]
        },
        {
          "output_type": "execute_result",
          "data": {
            "text/plain": [
              "array([[-0.03552632,  0.00440619,  0.02180452, -0.04938716,  0.00628368,\n",
              "         0.03577663, -0.01314538, -0.01036487, -0.01983113,  0.04604248],\n",
              "       [-0.03552632,  0.00440619,  0.02180452, -0.04938716,  0.00628368,\n",
              "         0.03577663, -0.01314538, -0.01036487, -0.01983113,  0.04604248],\n",
              "       [-0.03552632,  0.00440619,  0.02180452, -0.04938716,  0.00628368,\n",
              "         0.03577663, -0.01314538, -0.01036487, -0.01983113,  0.04604248],\n",
              "       [-0.03552632,  0.00440619,  0.02180452, -0.04938716,  0.00628368,\n",
              "         0.03577663, -0.01314538, -0.01036487, -0.01983113,  0.04604248],\n",
              "       [ 0.03716815,  0.0228782 , -0.02787025,  0.03055601,  0.0352588 ,\n",
              "        -0.02435155, -0.03666053,  0.00079419, -0.03713768, -0.03996487],\n",
              "       [ 0.03999765,  0.02610291, -0.04588012,  0.01136695,  0.00981395,\n",
              "        -0.01458291,  0.01568513, -0.04271355,  0.04132248,  0.03840644],\n",
              "       [ 0.01248282, -0.04145478, -0.03739711, -0.01478202, -0.00053271,\n",
              "        -0.02592677, -0.00044391,  0.02359496, -0.01048529, -0.0361184 ],\n",
              "       [-0.02653737, -0.03190788, -0.04569022, -0.02515712,  0.00927713,\n",
              "         0.04517932,  0.01415661, -0.04863591,  0.00037382,  0.0277451 ]],\n",
              "      dtype=float32)"
            ]
          },
          "metadata": {},
          "execution_count": 29
        }
      ]
    },
    {
      "cell_type": "code",
      "source": [
        "### Assignment\n",
        "sent = [\n",
        "    \"The world is a better place\",\n",
        "    \"Marvel series in my favourite movies\",\n",
        "    \"I like DC movies\",\n",
        "    \"the cat is eating the food\",\n",
        "    \"Tom and jerry is my favourite movie\",\n",
        "    \"Python is my favourite programming language\"\n",
        "]"
      ],
      "metadata": {
        "id": "gSjMe-9AWa56"
      },
      "execution_count": null,
      "outputs": []
    },
    {
      "cell_type": "code",
      "source": [
        "\n",
        "voc_size=10000\n",
        "one_hot_repr = [one_hot(words,voc_size) for words in sent]"
      ],
      "metadata": {
        "id": "Zbe2nvfGY2c-"
      },
      "execution_count": null,
      "outputs": []
    },
    {
      "cell_type": "code",
      "source": [
        "from tensorflow.keras.layers import Embedding\n",
        "from tensorflow.keras.preprocessing.sequence import pad_sequences\n",
        "from tensorflow.keras.models import Sequential\n",
        "import numpy as np"
      ],
      "metadata": {
        "id": "77U4VcUIY6D8"
      },
      "execution_count": null,
      "outputs": []
    },
    {
      "cell_type": "code",
      "source": [
        "sent_length = 8\n",
        "embedded_docs = pad_sequences(one_hot_repr,padding='pre',maxlen=sent_length)\n",
        "print(embedded_docs)\n",
        "model = Sequential()\n",
        "model.add(Embedding(voc_size,10,input_length=sent_length))\n",
        "model.compile('adam','mse')\n",
        "model.summary()"
      ],
      "metadata": {
        "colab": {
          "base_uri": "https://localhost:8080/"
        },
        "id": "nwQ4a96SZHw7",
        "outputId": "bfd78edb-197e-445e-b472-c8cce6ab77a9"
      },
      "execution_count": null,
      "outputs": [
        {
          "output_type": "stream",
          "name": "stdout",
          "text": [
            "[[   0    0 7877 3782   31 7791 4023 8415]\n",
            " [   0    0 3489 2698 5865 8561  692 6427]\n",
            " [   0    0    0    0 3590 1137 9437 6427]\n",
            " [   0    0 7877 3709   31 4871 7877 7382]\n",
            " [   0 4040 7294 3798   31 8561  692  552]\n",
            " [   0    0 9462   31 8561  692 7435 4763]]\n",
            "Model: \"sequential_1\"\n",
            "_________________________________________________________________\n",
            " Layer (type)                Output Shape              Param #   \n",
            "=================================================================\n",
            " embedding_1 (Embedding)     (None, 8, 10)             100000    \n",
            "                                                                 \n",
            "=================================================================\n",
            "Total params: 100000 (390.62 KB)\n",
            "Trainable params: 100000 (390.62 KB)\n",
            "Non-trainable params: 0 (0.00 Byte)\n",
            "_________________________________________________________________\n"
          ]
        }
      ]
    },
    {
      "cell_type": "code",
      "source": [
        "model.predict(embedded_docs[0])"
      ],
      "metadata": {
        "colab": {
          "base_uri": "https://localhost:8080/"
        },
        "id": "7s3Tj0Jub2MF",
        "outputId": "08bb16be-3bb0-4d65-d4db-43472a69bd78"
      },
      "execution_count": null,
      "outputs": [
        {
          "output_type": "stream",
          "name": "stdout",
          "text": [
            "1/1 [==============================] - 0s 47ms/step\n"
          ]
        },
        {
          "output_type": "execute_result",
          "data": {
            "text/plain": [
              "array([[-0.03266869, -0.01553877,  0.02566418,  0.02525205,  0.00069519,\n",
              "        -0.02832857, -0.03889417,  0.01518636, -0.03738189,  0.03274937],\n",
              "       [-0.03266869, -0.01553877,  0.02566418,  0.02525205,  0.00069519,\n",
              "        -0.02832857, -0.03889417,  0.01518636, -0.03738189,  0.03274937],\n",
              "       [ 0.03001856, -0.04808968,  0.02041713, -0.04091223, -0.00672978,\n",
              "        -0.0129264 , -0.02257233, -0.03412315, -0.04444612, -0.01899313],\n",
              "       [ 0.01186746,  0.04752572,  0.01285296, -0.01138346, -0.00370228,\n",
              "        -0.01773094, -0.04669612, -0.02239048, -0.0491321 , -0.04589176],\n",
              "       [-0.03404491, -0.0164592 ,  0.01097203, -0.03730882,  0.01630635,\n",
              "        -0.00994907, -0.04969192,  0.04344568,  0.03170556, -0.04646111],\n",
              "       [ 0.03780681,  0.04417542, -0.01377577, -0.01974171,  0.01627826,\n",
              "        -0.03869721, -0.02275071, -0.03792029, -0.04690573, -0.04060451],\n",
              "       [-0.01736184,  0.01594647, -0.0080318 , -0.01645646,  0.04669813,\n",
              "         0.00402231,  0.04823854, -0.00578035,  0.03925257, -0.04592332],\n",
              "       [-0.03994977,  0.01103223, -0.015465  , -0.03887547, -0.01615485,\n",
              "         0.02933241,  0.00704281,  0.02243904, -0.02942857, -0.03862343]],\n",
              "      dtype=float32)"
            ]
          },
          "metadata": {},
          "execution_count": 35
        }
      ]
    },
    {
      "cell_type": "code",
      "source": [
        "embedded_docs[0]"
      ],
      "metadata": {
        "colab": {
          "base_uri": "https://localhost:8080/"
        },
        "id": "YBWk1owEb6WA",
        "outputId": "7d4c7202-2362-49b4-f076-c3ac503538c1"
      },
      "execution_count": null,
      "outputs": [
        {
          "output_type": "execute_result",
          "data": {
            "text/plain": [
              "array([   0,    0, 7877, 3782,   31, 7791, 4023, 8415], dtype=int32)"
            ]
          },
          "metadata": {},
          "execution_count": 37
        }
      ]
    },
    {
      "cell_type": "code",
      "source": [],
      "metadata": {
        "id": "6nFAaTLGb-7M"
      },
      "execution_count": null,
      "outputs": []
    }
  ]
}